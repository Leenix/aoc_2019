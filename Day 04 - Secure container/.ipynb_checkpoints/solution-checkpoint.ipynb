{
 "cells": [
  {
   "cell_type": "markdown",
   "metadata": {},
   "source": [
    "# Day 04: Secure container"
   ]
  },
  {
   "cell_type": "markdown",
   "metadata": {},
   "source": [
    "## Grab input"
   ]
  },
  {
   "cell_type": "code",
   "execution_count": 1,
   "metadata": {
    "ExecuteTime": {
     "end_time": "2019-12-04T06:23:42.056573Z",
     "start_time": "2019-12-04T06:23:42.053675Z"
    }
   },
   "outputs": [],
   "source": [
    "password_min = 387638\n",
    "password_max = 919123"
   ]
  },
  {
   "cell_type": "markdown",
   "metadata": {},
   "source": [
    "## Part 1"
   ]
  },
  {
   "cell_type": "markdown",
   "metadata": {},
   "source": [
    "You arrive at the Venus fuel depot only to discover it's protected by a password. The Elves had written the password on a sticky note, but someone threw it out.\n",
    "\n",
    "However, they do remember a few key facts about the password:\n",
    "\n",
    "    It is a six-digit number.\n",
    "    The value is within the range given in your puzzle input.\n",
    "    Two adjacent digits are the same (like 22 in 122345).\n",
    "    Going from left to right, the digits never decrease; they only ever increase or stay the same (like 111123 or 135679).\n",
    "\n",
    "Other than the range rule, the following are true:\n",
    "\n",
    "    111111 meets these criteria (double 11, never decreases).\n",
    "    223450 does not meet these criteria (decreasing pair of digits 50).\n",
    "    123789 does not meet these criteria (no double).\n",
    "\n",
    "How many different passwords within the range given in your puzzle input meet these criteria?\n",
    "\n",
    "Your puzzle input is 387638-919123."
   ]
  },
  {
   "cell_type": "code",
   "execution_count": 2,
   "metadata": {
    "ExecuteTime": {
     "end_time": "2019-12-04T06:23:42.510854Z",
     "start_time": "2019-12-04T06:23:42.060880Z"
    },
    "code_folding": [
     0
    ]
   },
   "outputs": [],
   "source": [
    "# Calculate valid passwords that follow the increasing digits rule\n",
    "valid_passwords = set()\n",
    "\n",
    "for x in range(password_min, password_max):\n",
    "    current_password = str(x)\n",
    "    for i in range(len(current_password) - 1):\n",
    "        if current_password[i] <= current_password[i+1]:\n",
    "            if i == len(current_password) - 2:\n",
    "                valid_passwords.add(current_password)\n",
    "        else:\n",
    "            break\n",
    "        "
   ]
  },
  {
   "cell_type": "code",
   "execution_count": 3,
   "metadata": {
    "ExecuteTime": {
     "end_time": "2019-12-04T06:23:42.516721Z",
     "start_time": "2019-12-04T06:23:42.512594Z"
    },
    "code_folding": [
     0
    ]
   },
   "outputs": [],
   "source": [
    "# Function to find if passwords contain a duplicate\n",
    "import collections\n",
    "\n",
    "def has_double(password):\n",
    "    digits = list(password)\n",
    "    digit_counts = collections.Counter(digits)\n",
    "    \n",
    "    has_double = False\n",
    "    for count in digit_counts.keys():\n",
    "        if digit_counts[count] > 1:\n",
    "            has_double = True\n",
    "    return has_double"
   ]
  },
  {
   "cell_type": "code",
   "execution_count": 4,
   "metadata": {
    "ExecuteTime": {
     "end_time": "2019-12-04T06:23:42.526264Z",
     "start_time": "2019-12-04T06:23:42.518989Z"
    },
    "code_folding": [
     0
    ]
   },
   "outputs": [],
   "source": [
    "# Remove any passwords that do not contain a duplicate digit\n",
    "still_valid_passwords = []\n",
    "for password in list(valid_passwords):\n",
    "    if has_double(password):\n",
    "        still_valid_passwords.append(password)\n",
    "valid_passwords = still_valid_passwords"
   ]
  },
  {
   "cell_type": "code",
   "execution_count": 5,
   "metadata": {
    "ExecuteTime": {
     "end_time": "2019-12-04T06:23:42.537883Z",
     "start_time": "2019-12-04T06:23:42.528361Z"
    }
   },
   "outputs": [
    {
     "data": {
      "text/plain": [
       "466"
      ]
     },
     "execution_count": 5,
     "metadata": {},
     "output_type": "execute_result"
    }
   ],
   "source": [
    "len(valid_passwords)"
   ]
  },
  {
   "cell_type": "markdown",
   "metadata": {},
   "source": [
    "Solution: 466"
   ]
  },
  {
   "cell_type": "markdown",
   "metadata": {
    "ExecuteTime": {
     "end_time": "2019-12-01T12:06:03.133484Z",
     "start_time": "2019-12-01T12:06:03.128923Z"
    }
   },
   "source": [
    "## Part 2"
   ]
  },
  {
   "cell_type": "markdown",
   "metadata": {},
   "source": [
    "An Elf just remembered one more important detail: the two adjacent matching digits are not part of a larger group of matching digits.\n",
    "\n",
    "Given this additional criterion, but still ignoring the range rule, the following are now true:\n",
    "\n",
    "    112233 meets these criteria because the digits never decrease and all repeated digits are exactly two digits long.\n",
    "    123444 no longer meets the criteria (the repeated 44 is part of a larger group of 444).\n",
    "    111122 meets the criteria (even though 1 is repeated more than twice, it still contains a double 22).\n",
    "\n",
    "How many different passwords within the range given in your puzzle input meet all of the criteria?"
   ]
  },
  {
   "cell_type": "code",
   "execution_count": 6,
   "metadata": {
    "ExecuteTime": {
     "end_time": "2019-12-04T06:23:42.543626Z",
     "start_time": "2019-12-04T06:23:42.539514Z"
    },
    "code_folding": [
     0
    ]
   },
   "outputs": [],
   "source": [
    "# Function to find if passwords contain a duplicate group of size 2\n",
    "import collections\n",
    "\n",
    "def has_only_double(password):\n",
    "    digits = list(password)\n",
    "    digit_counts = collections.Counter(digits)\n",
    "    \n",
    "    has_double = False\n",
    "    for count in digit_counts.keys():\n",
    "        if digit_counts[count] == 2:\n",
    "            has_double = True\n",
    "    return has_double"
   ]
  },
  {
   "cell_type": "code",
   "execution_count": 7,
   "metadata": {
    "ExecuteTime": {
     "end_time": "2019-12-04T06:23:42.551740Z",
     "start_time": "2019-12-04T06:23:42.544872Z"
    },
    "code_folding": [
     0
    ]
   },
   "outputs": [],
   "source": [
    "# Using the previous list, remove any passwords that do not contain a duplicate group of exactly 2\n",
    "still_valid_passwords = []\n",
    "for password in list(valid_passwords):\n",
    "    if has_only_double(password):\n",
    "        still_valid_passwords.append(password)\n",
    "valid_passwords = still_valid_passwords"
   ]
  },
  {
   "cell_type": "code",
   "execution_count": 8,
   "metadata": {
    "ExecuteTime": {
     "end_time": "2019-12-04T06:23:42.558856Z",
     "start_time": "2019-12-04T06:23:42.553464Z"
    }
   },
   "outputs": [
    {
     "data": {
      "text/plain": [
       "292"
      ]
     },
     "execution_count": 8,
     "metadata": {},
     "output_type": "execute_result"
    }
   ],
   "source": [
    "len(valid_passwords)"
   ]
  },
  {
   "cell_type": "markdown",
   "metadata": {},
   "source": [
    "Solution: 292"
   ]
  },
  {
   "cell_type": "code",
   "execution_count": null,
   "metadata": {},
   "outputs": [],
   "source": []
  }
 ],
 "metadata": {
  "kernelspec": {
   "display_name": "Python 3",
   "language": "python",
   "name": "python3"
  },
  "language_info": {
   "codemirror_mode": {
    "name": "ipython",
    "version": 3
   },
   "file_extension": ".py",
   "mimetype": "text/x-python",
   "name": "python",
   "nbconvert_exporter": "python",
   "pygments_lexer": "ipython3",
   "version": "3.6.9"
  },
  "toc": {
   "base_numbering": 1,
   "nav_menu": {},
   "number_sections": false,
   "sideBar": true,
   "skip_h1_title": false,
   "title_cell": "Table of Contents",
   "title_sidebar": "Contents",
   "toc_cell": false,
   "toc_position": {},
   "toc_section_display": true,
   "toc_window_display": false
  },
  "varInspector": {
   "cols": {
    "lenName": 16,
    "lenType": 16,
    "lenVar": 40
   },
   "kernels_config": {
    "python": {
     "delete_cmd_postfix": "",
     "delete_cmd_prefix": "del ",
     "library": "var_list.py",
     "varRefreshCmd": "print(var_dic_list())"
    },
    "r": {
     "delete_cmd_postfix": ") ",
     "delete_cmd_prefix": "rm(",
     "library": "var_list.r",
     "varRefreshCmd": "cat(var_dic_list()) "
    }
   },
   "types_to_exclude": [
    "module",
    "function",
    "builtin_function_or_method",
    "instance",
    "_Feature"
   ],
   "window_display": false
  }
 },
 "nbformat": 4,
 "nbformat_minor": 2
}

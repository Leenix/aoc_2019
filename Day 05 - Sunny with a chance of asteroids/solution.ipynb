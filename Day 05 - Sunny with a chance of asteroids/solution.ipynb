{
 "cells": [
  {
   "cell_type": "markdown",
   "metadata": {},
   "source": [
    "# Day 05: Sunny with a chance of asteroids "
   ]
  },
  {
   "cell_type": "markdown",
   "metadata": {},
   "source": [
    "## Grab input"
   ]
  },
  {
   "cell_type": "code",
   "execution_count": 1,
   "metadata": {
    "ExecuteTime": {
     "end_time": "2019-12-07T07:59:25.616396Z",
     "start_time": "2019-12-07T07:59:25.612105Z"
    }
   },
   "outputs": [],
   "source": [
    "def grab_input(input_filename):\n",
    "    with open(input_filename) as f:\n",
    "        lines = f.read()\n",
    "    lines = lines.strip().split(',')\n",
    "    \n",
    "    output = []\n",
    "    for line in lines:\n",
    "        output.append(int(line))\n",
    "       \n",
    "    return output"
   ]
  },
  {
   "cell_type": "code",
   "execution_count": 2,
   "metadata": {
    "ExecuteTime": {
     "end_time": "2019-12-07T07:59:25.761826Z",
     "start_time": "2019-12-07T07:59:25.617987Z"
    },
    "scrolled": true
   },
   "outputs": [
    {
     "data": {
      "text/plain": [
       "[3, 9, 8, 9, 10, 9, 4, 9, 99, -1, 8]"
      ]
     },
     "execution_count": 2,
     "metadata": {},
     "output_type": "execute_result"
    }
   ],
   "source": [
    "puzzle_input = grab_input(\"test21\")\n",
    "puzzle_input"
   ]
  },
  {
   "cell_type": "code",
   "execution_count": 3,
   "metadata": {
    "ExecuteTime": {
     "end_time": "2019-12-07T07:59:25.889135Z",
     "start_time": "2019-12-07T07:59:25.764029Z"
    }
   },
   "outputs": [],
   "source": [
    "from importlib import reload  # Not needed in Python 2\n",
    "import logging\n",
    "reload(logging)\n",
    "logging.basicConfig(format='%(asctime)s %(levelname)s:%(message)s', level=logging.DEBUG, datefmt='%I:%M:%S')"
   ]
  },
  {
   "cell_type": "markdown",
   "metadata": {},
   "source": [
    "## Part 1"
   ]
  },
  {
   "cell_type": "markdown",
   "metadata": {},
   "source": [
    "You're starting to sweat as the ship makes its way toward Mercury. The Elves suggest that you get the air conditioner working by upgrading your ship computer to support the Thermal Environment Supervision Terminal.\n",
    "\n",
    "The Thermal Environment Supervision Terminal (TEST) starts by running a diagnostic program (your puzzle input). The TEST diagnostic program will run on your existing Intcode computer after a few modifications:\n",
    "\n",
    "First, you'll need to add two new instructions:\n",
    "\n",
    "    Opcode 3 takes a single integer as input and saves it to the address given by its only parameter. For example, the instruction 3,50 would take an input value and store it at address 50.\n",
    "    Opcode 4 outputs the value of its only parameter. For example, the instruction 4,50 would output the value at address 50.\n",
    "\n",
    "Programs that use these instructions will come with documentation that explains what should be connected to the input and output. The program 3,0,4,0,99 outputs whatever it gets as input, then halts.\n",
    "\n",
    "Second, you'll need to add support for parameter modes:\n",
    "\n",
    "Each parameter of an instruction is handled based on its parameter mode. Right now, your ship computer already understands parameter mode 0, position mode, which causes the parameter to be interpreted as a position - if the parameter is 50, its value is the value stored at address 50 in memory. Until now, all parameters have been in position mode.\n",
    "\n",
    "Now, your ship computer will also need to handle parameters in mode 1, immediate mode. In immediate mode, a parameter is interpreted as a value - if the parameter is 50, its value is simply 50.\n",
    "\n",
    "Parameter modes are stored in the same value as the instruction's opcode. The opcode is a two-digit number based only on the ones and tens digit of the value, that is, the opcode is the rightmost two digits of the first value in an instruction. Parameter modes are single digits, one per parameter, read right-to-left from the opcode: the first parameter's mode is in the hundreds digit, the second parameter's mode is in the thousands digit, the third parameter's mode is in the ten-thousands digit, and so on. Any missing modes are 0.\n",
    "\n",
    "For example, consider the program 1002,4,3,4,33.\n",
    "\n",
    "The first instruction, 1002,4,3,4, is a multiply instruction - the rightmost two digits of the first value, 02, indicate opcode 2, multiplication. Then, going right to left, the parameter modes are 0 (hundreds digit), 1 (thousands digit), and 0 (ten-thousands digit, not present and therefore zero):\n",
    "\n",
    "ABCDE\n",
    " 1002\n",
    "\n",
    "DE - two-digit opcode,      02 == opcode 2\n",
    " C - mode of 1st parameter,  0 == position mode\n",
    " B - mode of 2nd parameter,  1 == immediate mode\n",
    " A - mode of 3rd parameter,  0 == position mode,\n",
    "                                  omitted due to being a leading zero\n",
    "\n",
    "This instruction multiplies its first two parameters. The first parameter, 4 in position mode, works like it did before - its value is the value stored at address 4 (33). The second parameter, 3 in immediate mode, simply has value 3. The result of this operation, 33 * 3 = 99, is written according to the third parameter, 4 in position mode, which also works like it did before - 99 is written to address 4.\n",
    "\n",
    "Parameters that an instruction writes to will never be in immediate mode.\n",
    "\n",
    "Finally, some notes:\n",
    "\n",
    "    It is important to remember that the instruction pointer should increase by the number of values in the instruction after the instruction finishes. Because of the new instructions, this amount is no longer always 4.\n",
    "    Integers can be negative: 1101,100,-1,4,0 is a valid program (find 100 + -1, store the result in position 4).\n",
    "\n",
    "The TEST diagnostic program will start by requesting from the user the ID of the system to test by running an input instruction - provide it 1, the ID for the ship's air conditioner unit.\n",
    "\n",
    "It will then perform a series of diagnostic tests confirming that various parts of the Intcode computer, like parameter modes, function correctly. For each test, it will run an output instruction indicating how far the result of the test was from the expected value, where 0 means the test was successful. Non-zero outputs mean that a function is not working correctly; check the instructions that were run before the output instruction to see which one failed.\n",
    "\n",
    "Finally, the program will output a diagnostic code and immediately halt. This final output isn't an error; an output followed immediately by a halt means the program finished. If all outputs were zero except the diagnostic code, the diagnostic program ran successfully.\n",
    "\n",
    "After providing 1 to the only input instruction and passing all the tests, what diagnostic code does the program produce?"
   ]
  },
  {
   "cell_type": "code",
   "execution_count": 95,
   "metadata": {
    "ExecuteTime": {
     "end_time": "2019-12-07T08:55:47.552552Z",
     "start_time": "2019-12-07T08:55:47.538209Z"
    },
    "code_folding": []
   },
   "outputs": [],
   "source": [
    "def pad_modes(modes, size):\n",
    "    while len(modes) < size:\n",
    "        modes = '0' + modes\n",
    "    logging.info(f\"Modes: {list(modes)}\")\n",
    "    return list(modes)\n",
    "\n",
    "def get_params(modes, position, program):\n",
    "    params = [0,0,0]\n",
    "    modes = pad_modes(modes, len(params))[::-1]\n",
    "        \n",
    "    position += 1\n",
    "    for i in range(len(params)):\n",
    "        if position < len(program):\n",
    "            if modes[i] == \"0\":\n",
    "                params[i] = program[position]\n",
    "            elif modes[i] == \"1\":\n",
    "                params[i] = position\n",
    "            position += 1\n",
    "    return params, position\n",
    "        \n",
    "\n",
    "def op_add(modes, position, program):\n",
    "    params, position = get_params(modes, position, program)\n",
    "    logging.info(f\"{program[params[0]] + program[params[1]]} saved to [{params[2]}]\\t({program[params[0]]} + {program[params[1]]})\")\n",
    "    program[params[2]] = program[params[0]] + program[params[1]]\n",
    "    return position, program\n",
    "\n",
    "def op_multiply(modes, position, program):\n",
    "    params, position = get_params(modes, position, program)\n",
    "    logging.info(f\"{program[params[0]] * program[params[1]]} saved to [{params[2]}]\\t({program[params[0]]} * {program[params[1]]})\")\n",
    "    program[params[2]] = program[params[0]] * program[params[1]]\n",
    "    return position, program\n",
    "\n",
    "def op_save(input_value, position, program):\n",
    "    position += 1\n",
    "    program[program[position]] = input_value\n",
    "    logging.info(f\"Value {input_value} saved to [{program[position]}]\")\n",
    "    position += 1\n",
    "    return position, program\n",
    "\n",
    "def op_load(position, program):\n",
    "    position += 1\n",
    "    output = program[program[position]]\n",
    "    logging.info(f\"Value {output} loaded from [{program[position]}]\")\n",
    "    position += 1\n",
    "    return output, position, program"
   ]
  },
  {
   "cell_type": "code",
   "execution_count": 5,
   "metadata": {
    "ExecuteTime": {
     "end_time": "2019-12-07T07:59:26.107894Z",
     "start_time": "2019-12-07T07:59:25.994066Z"
    }
   },
   "outputs": [],
   "source": [
    "op_codes = {\n",
    "    \"1\":op_add,\n",
    "    \"2\":op_multiply,\n",
    "    \"3\":op_save,\n",
    "    \"4\":op_load,\n",
    "}"
   ]
  },
  {
   "cell_type": "code",
   "execution_count": 6,
   "metadata": {
    "ExecuteTime": {
     "end_time": "2019-12-07T07:59:26.285623Z",
     "start_time": "2019-12-07T07:59:26.110564Z"
    }
   },
   "outputs": [
    {
     "name": "stderr",
     "output_type": "stream",
     "text": [
      "05:59:26 INFO:PC: 0\tOpcode: 3\n",
      "05:59:26 INFO:Value 1 saved to [9]\n",
      "05:59:26 INFO:PC: 2\tOpcode: 8\n"
     ]
    },
    {
     "ename": "KeyError",
     "evalue": "'8'",
     "output_type": "error",
     "traceback": [
      "\u001b[0;31m---------------------------------------------------------------------------\u001b[0m",
      "\u001b[0;31mKeyError\u001b[0m                                  Traceback (most recent call last)",
      "\u001b[0;32m<ipython-input-6-b9d24e113146>\u001b[0m in \u001b[0;36m<module>\u001b[0;34m\u001b[0m\n\u001b[1;32m     18\u001b[0m     \u001b[0;32melse\u001b[0m\u001b[0;34m:\u001b[0m\u001b[0;34m\u001b[0m\u001b[0;34m\u001b[0m\u001b[0m\n\u001b[1;32m     19\u001b[0m         \u001b[0mmodes\u001b[0m \u001b[0;34m=\u001b[0m \u001b[0mstr\u001b[0m\u001b[0;34m(\u001b[0m\u001b[0mprogram\u001b[0m\u001b[0;34m[\u001b[0m\u001b[0mpc\u001b[0m\u001b[0;34m]\u001b[0m\u001b[0;34m)\u001b[0m\u001b[0;34m[\u001b[0m\u001b[0;34m:\u001b[0m\u001b[0;34m-\u001b[0m\u001b[0;36m2\u001b[0m\u001b[0;34m]\u001b[0m\u001b[0;34m\u001b[0m\u001b[0;34m\u001b[0m\u001b[0m\n\u001b[0;32m---> 20\u001b[0;31m         \u001b[0mpc\u001b[0m\u001b[0;34m,\u001b[0m \u001b[0mprogram\u001b[0m \u001b[0;34m=\u001b[0m \u001b[0mop_codes\u001b[0m\u001b[0;34m[\u001b[0m\u001b[0mstr\u001b[0m\u001b[0;34m(\u001b[0m\u001b[0mop_code\u001b[0m\u001b[0;34m)\u001b[0m\u001b[0;34m]\u001b[0m\u001b[0;34m(\u001b[0m\u001b[0mmodes\u001b[0m\u001b[0;34m,\u001b[0m \u001b[0mpc\u001b[0m\u001b[0;34m,\u001b[0m \u001b[0mprogram\u001b[0m\u001b[0;34m)\u001b[0m\u001b[0;34m\u001b[0m\u001b[0;34m\u001b[0m\u001b[0m\n\u001b[0m\u001b[1;32m     21\u001b[0m \u001b[0;34m\u001b[0m\u001b[0m\n\u001b[1;32m     22\u001b[0m     \u001b[0mop_code\u001b[0m \u001b[0;34m=\u001b[0m \u001b[0mint\u001b[0m\u001b[0;34m(\u001b[0m\u001b[0mstr\u001b[0m\u001b[0;34m(\u001b[0m\u001b[0mprogram\u001b[0m\u001b[0;34m[\u001b[0m\u001b[0mpc\u001b[0m\u001b[0;34m]\u001b[0m\u001b[0;34m)\u001b[0m\u001b[0;34m[\u001b[0m\u001b[0;34m-\u001b[0m\u001b[0;36m2\u001b[0m\u001b[0;34m:\u001b[0m\u001b[0;34m]\u001b[0m\u001b[0;34m)\u001b[0m\u001b[0;34m\u001b[0m\u001b[0;34m\u001b[0m\u001b[0m\n",
      "\u001b[0;31mKeyError\u001b[0m: '8'"
     ]
    }
   ],
   "source": [
    "program = list(puzzle_input)\n",
    "\n",
    "pc = 0\n",
    "op_code = int(str(program[pc])[-2:])\n",
    "output = 0\n",
    "\n",
    "while op_code != 99:\n",
    "\n",
    "    logging.info(f\"PC: {pc}\\tOpcode: {op_code}\")\n",
    "    \n",
    "    \n",
    "    if op_code == 3:\n",
    "        pc, program = op_codes[str(op_code)](1, pc, program)\n",
    "        \n",
    "    elif op_code == 4:\n",
    "        output, pc, program = op_codes[str(op_code)](pc, program)\n",
    "        \n",
    "    else:\n",
    "        modes = str(program[pc])[:-2]\n",
    "        pc, program = op_codes[str(op_code)](modes, pc, program)\n",
    "\n",
    "    op_code = int(str(program[pc])[-2:])\n",
    "\n",
    "    "
   ]
  },
  {
   "cell_type": "code",
   "execution_count": 7,
   "metadata": {
    "ExecuteTime": {
     "end_time": "2019-12-07T07:59:36.274887Z",
     "start_time": "2019-12-07T07:59:36.268842Z"
    }
   },
   "outputs": [
    {
     "name": "stdout",
     "output_type": "stream",
     "text": [
      "0\n"
     ]
    }
   ],
   "source": [
    "print(output)"
   ]
  },
  {
   "cell_type": "markdown",
   "metadata": {},
   "source": [
    "Solution = 13978427"
   ]
  },
  {
   "cell_type": "markdown",
   "metadata": {
    "ExecuteTime": {
     "end_time": "2019-12-01T12:06:03.133484Z",
     "start_time": "2019-12-01T12:06:03.128923Z"
    }
   },
   "source": [
    "## Part 2"
   ]
  },
  {
   "cell_type": "markdown",
   "metadata": {},
   "source": [
    "The air conditioner comes online! Its cold air feels good for a while, but then the TEST alarms start to go off. Since the air conditioner can't vent its heat anywhere but back into the spacecraft, it's actually making the air inside the ship warmer.\n",
    "\n",
    "Instead, you'll need to use the TEST to extend the thermal radiators. Fortunately, the diagnostic program (your puzzle input) is already equipped for this. Unfortunately, your Intcode computer is not.\n",
    "\n",
    "Your computer is only missing a few opcodes:\n",
    "\n",
    "    Opcode 5 is jump-if-true: if the first parameter is non-zero, it sets the instruction pointer to the value from the second parameter. Otherwise, it does nothing.\n",
    "    Opcode 6 is jump-if-false: if the first parameter is zero, it sets the instruction pointer to the value from the second parameter. Otherwise, it does nothing.\n",
    "    Opcode 7 is less than: if the first parameter is less than the second parameter, it stores 1 in the position given by the third parameter. Otherwise, it stores 0.\n",
    "    Opcode 8 is equals: if the first parameter is equal to the second parameter, it stores 1 in the position given by the third parameter. Otherwise, it stores 0.\n",
    "\n",
    "Like all instructions, these instructions need to support parameter modes as described above.\n",
    "\n",
    "Normally, after an instruction is finished, the instruction pointer increases by the number of values in that instruction. However, if the instruction modifies the instruction pointer, that value is used and the instruction pointer is not automatically increased.\n",
    "\n",
    "For example, here are several programs that take one input, compare it to the value 8, and then produce one output:\n",
    "\n",
    "    3,9,8,9,10,9,4,9,99,-1,8 - Using position mode, consider whether the input is equal to 8; output 1 (if it is) or 0 (if it is not).\n",
    "    3,9,7,9,10,9,4,9,99,-1,8 - Using position mode, consider whether the input is less than 8; output 1 (if it is) or 0 (if it is not).\n",
    "    3,3,1108,-1,8,3,4,3,99 - Using immediate mode, consider whether the input is equal to 8; output 1 (if it is) or 0 (if it is not).\n",
    "    3,3,1107,-1,8,3,4,3,99 - Using immediate mode, consider whether the input is less than 8; output 1 (if it is) or 0 (if it is not).\n",
    "\n",
    "Here are some jump tests that take an input, then output 0 if the input was zero or 1 if the input was non-zero:\n",
    "\n",
    "    3,12,6,12,15,1,13,14,13,4,13,99,-1,0,1,9 (using position mode)\n",
    "    3,3,1105,-1,9,1101,0,0,12,4,12,99,1 (using immediate mode)\n",
    "\n",
    "Here's a larger example:\n",
    "\n",
    "3,21,1008,21,8,20,1005,20,22,107,8,21,20,1006,20,31,\n",
    "1106,0,36,98,0,0,1002,21,125,20,4,20,1105,1,46,104,\n",
    "999,1105,1,46,1101,1000,1,20,4,20,1105,1,46,98,99\n",
    "\n",
    "The above example program uses an input instruction to ask for a single number. The program will then output 999 if the input value is below 8, output 1000 if the input value is equal to 8, or output 1001 if the input value is greater than 8.\n",
    "\n",
    "This time, when the TEST diagnostic program runs its input instruction to get the ID of the system to test, provide it 5, the ID for the ship's thermal radiator controller. This diagnostic test suite only outputs one number, the diagnostic code.\n",
    "\n",
    "What is the diagnostic code for system ID 5?"
   ]
  },
  {
   "cell_type": "code",
   "execution_count": 121,
   "metadata": {
    "ExecuteTime": {
     "end_time": "2019-12-07T09:04:39.417772Z",
     "start_time": "2019-12-07T09:04:39.405692Z"
    }
   },
   "outputs": [],
   "source": [
    "def jump_if_true(modes, position, program):\n",
    "    params, position = get_params(modes, position, program)\n",
    "    if program[params[0]] != 0:\n",
    "        position = program[params[1]]\n",
    "        logging.debug(f\"PC jumped to [{program[params[1]]}]\")\n",
    "    else:\n",
    "        position -= 1\n",
    "    return position, program\n",
    "\n",
    "def jump_if_false(modes, position, program):\n",
    "    params, position = get_params(modes, position, program)\n",
    "    if program[params[0]] == 0:\n",
    "        position = program[params[1]]\n",
    "        logging.debug(f\"PC jumped to [{program[params[1]]}]\")\n",
    "    else:\n",
    "        position -= 1\n",
    "    return position, program\n",
    "\n",
    "def less_than(modes, position, program):\n",
    "    params, position = get_params(modes, position, program)\n",
    "    result = 0\n",
    "    if program[params[0]] < program[params[1]]:\n",
    "        result = 1\n",
    "    program[params[2]] = result\n",
    "    logging.info(f\"Less than check: {result} written to [{program[params[2]]}]\")\n",
    "    return position, program\n",
    "\n",
    "def equals(modes, position, program):\n",
    "    params, position = get_params(modes, position, program)\n",
    "    result = 0\n",
    "    if program[params[0]] == program[params[1]]:\n",
    "        result = 1\n",
    "    program[params[2]] = result\n",
    "    logging.info(f\"Equals check: {result} written to [{program[params[2]]}]\")\n",
    "    return position, program\n",
    "\n",
    "del(op_save)\n",
    "def op_save(input_value, modes, position, program):\n",
    "    params, position = get_params(modes, position, program)\n",
    "    program[params[0]] = input_value\n",
    "    logging.info(f\"Value {input_value} saved to [{params[0]}]\")\n",
    "    position -= 2\n",
    "\n",
    "    return position, program\n",
    "\n",
    "del(op_load)\n",
    "def op_load(modes, position, program):\n",
    "    params, position = get_params(modes, position, program)\n",
    "    output = program[params[0]]\n",
    "    logging.info(f\"Value {input_value} loaded from [{program[params[0]]}]\")\n",
    "    position -= 2\n",
    "    return output, position, program"
   ]
  },
  {
   "cell_type": "code",
   "execution_count": 122,
   "metadata": {
    "ExecuteTime": {
     "end_time": "2019-12-07T09:04:39.706349Z",
     "start_time": "2019-12-07T09:04:39.703202Z"
    }
   },
   "outputs": [],
   "source": [
    "op_codes = {\n",
    "    \"1\":op_add,\n",
    "    \"2\":op_multiply,\n",
    "    \"3\":op_save,\n",
    "    \"4\":op_load,\n",
    "    \"5\":jump_if_true,\n",
    "    \"6\":jump_if_false,\n",
    "    \"7\":less_than,\n",
    "    \"8\":equals\n",
    "}"
   ]
  },
  {
   "cell_type": "code",
   "execution_count": 130,
   "metadata": {
    "ExecuteTime": {
     "end_time": "2019-12-07T09:05:26.122717Z",
     "start_time": "2019-12-07T09:05:26.117642Z"
    }
   },
   "outputs": [],
   "source": [
    "puzzle_input = grab_input(\"input\")"
   ]
  },
  {
   "cell_type": "code",
   "execution_count": 131,
   "metadata": {
    "ExecuteTime": {
     "end_time": "2019-12-07T09:05:31.787111Z",
     "start_time": "2019-12-07T09:05:31.580704Z"
    }
   },
   "outputs": [
    {
     "name": "stderr",
     "output_type": "stream",
     "text": [
      "07:05:31 INFO:PC: 0\tOpcode: 3\tRaw: 3\n",
      "07:05:31 INFO:Modes: ['0', '0', '0']\n",
      "07:05:31 INFO:Value 5 saved to [225]\n",
      "07:05:31 INFO:PC: 2\tOpcode: 1\tRaw: 1\n",
      "07:05:31 INFO:Modes: ['0', '0', '0']\n",
      "07:05:31 INFO:1105 saved to [6]\t(5 + 1100)\n",
      "07:05:31 INFO:PC: 6\tOpcode: 5\tRaw: 1105\n",
      "07:05:31 INFO:Modes: ['0', '1', '1']\n",
      "07:05:31 DEBUG:PC jumped to [238]\n",
      "07:05:31 INFO:PC: 238\tOpcode: 5\tRaw: 1105\n",
      "07:05:31 INFO:Modes: ['0', '1', '1']\n",
      "07:05:31 INFO:PC: 241\tOpcode: 5\tRaw: 1105\n",
      "07:05:31 INFO:Modes: ['0', '1', '1']\n",
      "07:05:31 DEBUG:PC jumped to [247]\n",
      "07:05:31 INFO:PC: 247\tOpcode: 5\tRaw: 1005\n",
      "07:05:31 INFO:Modes: ['0', '1', '0']\n",
      "07:05:31 INFO:PC: 250\tOpcode: 5\tRaw: 1005\n",
      "07:05:31 INFO:Modes: ['0', '1', '0']\n",
      "07:05:31 DEBUG:PC jumped to [256]\n",
      "07:05:31 INFO:PC: 256\tOpcode: 6\tRaw: 1106\n",
      "07:05:31 INFO:Modes: ['0', '1', '1']\n",
      "07:05:31 INFO:PC: 259\tOpcode: 6\tRaw: 1106\n",
      "07:05:31 INFO:Modes: ['0', '1', '1']\n",
      "07:05:31 DEBUG:PC jumped to [265]\n",
      "07:05:31 INFO:PC: 265\tOpcode: 6\tRaw: 1006\n",
      "07:05:31 INFO:Modes: ['0', '1', '0']\n",
      "07:05:31 INFO:PC: 268\tOpcode: 6\tRaw: 1006\n",
      "07:05:31 INFO:Modes: ['0', '1', '0']\n",
      "07:05:31 DEBUG:PC jumped to [274]\n",
      "07:05:31 INFO:PC: 274\tOpcode: 5\tRaw: 1105\n",
      "07:05:31 INFO:Modes: ['0', '1', '1']\n",
      "07:05:31 DEBUG:PC jumped to [280]\n",
      "07:05:31 INFO:PC: 280\tOpcode: 1\tRaw: 1\n",
      "07:05:31 INFO:Modes: ['0', '0', '0']\n",
      "07:05:31 INFO:10 saved to [225]\t(5 + 5)\n",
      "07:05:31 INFO:PC: 284\tOpcode: 1\tRaw: 1101\n",
      "07:05:31 INFO:Modes: ['0', '1', '1']\n",
      "07:05:31 INFO:294 saved to [0]\t(294 + 0)\n",
      "07:05:31 INFO:PC: 288\tOpcode: 5\tRaw: 105\n",
      "07:05:31 INFO:Modes: ['0', '0', '1']\n",
      "07:05:31 DEBUG:PC jumped to [294]\n",
      "07:05:31 INFO:PC: 294\tOpcode: 6\tRaw: 1106\n",
      "07:05:31 INFO:Modes: ['0', '1', '1']\n",
      "07:05:31 DEBUG:PC jumped to [300]\n",
      "07:05:31 INFO:PC: 300\tOpcode: 1\tRaw: 1\n",
      "07:05:31 INFO:Modes: ['0', '0', '0']\n",
      "07:05:31 INFO:20 saved to [225]\t(10 + 10)\n",
      "07:05:31 INFO:PC: 304\tOpcode: 1\tRaw: 1101\n",
      "07:05:31 INFO:Modes: ['0', '1', '1']\n",
      "07:05:31 INFO:314 saved to [0]\t(314 + 0)\n",
      "07:05:31 INFO:PC: 308\tOpcode: 6\tRaw: 106\n",
      "07:05:31 INFO:Modes: ['0', '0', '1']\n",
      "07:05:31 DEBUG:PC jumped to [314]\n",
      "07:05:31 INFO:PC: 314\tOpcode: 8\tRaw: 108\n",
      "07:05:31 INFO:Modes: ['0', '0', '1']\n",
      "07:05:31 INFO:Equals check: 0 written to [0]\n",
      "07:05:31 INFO:PC: 318\tOpcode: 2\tRaw: 102\n",
      "07:05:31 INFO:Modes: ['0', '0', '1']\n",
      "07:05:31 INFO:0 saved to [223]\t(2 * 0)\n",
      "07:05:31 INFO:PC: 322\tOpcode: 5\tRaw: 1005\n",
      "07:05:31 INFO:Modes: ['0', '1', '0']\n",
      "07:05:31 INFO:PC: 325\tOpcode: 1\tRaw: 1001\n",
      "07:05:31 INFO:Modes: ['0', '1', '0']\n",
      "07:05:31 INFO:1 saved to [223]\t(0 + 1)\n",
      "07:05:31 INFO:PC: 329\tOpcode: 7\tRaw: 1107\n",
      "07:05:31 INFO:Modes: ['0', '1', '1']\n",
      "07:05:31 INFO:Less than check: 0 written to [0]\n",
      "07:05:31 INFO:PC: 333\tOpcode: 2\tRaw: 102\n",
      "07:05:31 INFO:Modes: ['0', '0', '1']\n",
      "07:05:31 INFO:2 saved to [223]\t(2 * 1)\n",
      "07:05:31 INFO:PC: 337\tOpcode: 6\tRaw: 1006\n",
      "07:05:31 INFO:Modes: ['0', '1', '0']\n",
      "07:05:31 DEBUG:PC jumped to [344]\n",
      "07:05:31 INFO:PC: 344\tOpcode: 8\tRaw: 108\n",
      "07:05:31 INFO:Modes: ['0', '0', '1']\n",
      "07:05:31 INFO:Equals check: 0 written to [0]\n",
      "07:05:31 INFO:PC: 348\tOpcode: 2\tRaw: 102\n",
      "07:05:31 INFO:Modes: ['0', '0', '1']\n",
      "07:05:31 INFO:4 saved to [223]\t(2 * 2)\n",
      "07:05:31 INFO:PC: 352\tOpcode: 5\tRaw: 1005\n",
      "07:05:31 INFO:Modes: ['0', '1', '0']\n",
      "07:05:31 INFO:PC: 355\tOpcode: 1\tRaw: 1001\n",
      "07:05:31 INFO:Modes: ['0', '1', '0']\n",
      "07:05:31 INFO:5 saved to [223]\t(4 + 1)\n",
      "07:05:31 INFO:PC: 359\tOpcode: 8\tRaw: 1108\n",
      "07:05:31 INFO:Modes: ['0', '1', '1']\n",
      "07:05:31 INFO:Equals check: 0 written to [0]\n",
      "07:05:31 INFO:PC: 363\tOpcode: 2\tRaw: 102\n",
      "07:05:31 INFO:Modes: ['0', '0', '1']\n",
      "07:05:31 INFO:10 saved to [223]\t(2 * 5)\n",
      "07:05:31 INFO:PC: 367\tOpcode: 6\tRaw: 1006\n",
      "07:05:31 INFO:Modes: ['0', '1', '0']\n",
      "07:05:31 DEBUG:PC jumped to [374]\n",
      "07:05:31 INFO:PC: 374\tOpcode: 8\tRaw: 108\n",
      "07:05:31 INFO:Modes: ['0', '0', '1']\n",
      "07:05:31 INFO:Equals check: 1 written to [1]\n",
      "07:05:31 INFO:PC: 378\tOpcode: 2\tRaw: 102\n",
      "07:05:31 INFO:Modes: ['0', '0', '1']\n",
      "07:05:31 INFO:20 saved to [223]\t(2 * 10)\n",
      "07:05:31 INFO:PC: 382\tOpcode: 6\tRaw: 1006\n",
      "07:05:31 INFO:Modes: ['0', '1', '0']\n",
      "07:05:31 INFO:PC: 385\tOpcode: 1\tRaw: 1001\n",
      "07:05:31 INFO:Modes: ['0', '1', '0']\n",
      "07:05:31 INFO:21 saved to [223]\t(20 + 1)\n",
      "07:05:31 INFO:PC: 389\tOpcode: 7\tRaw: 107\n",
      "07:05:31 INFO:Modes: ['0', '0', '1']\n",
      "07:05:31 INFO:Less than check: 1 written to [1]\n",
      "07:05:31 INFO:PC: 393\tOpcode: 2\tRaw: 102\n",
      "07:05:31 INFO:Modes: ['0', '0', '1']\n",
      "07:05:31 INFO:42 saved to [223]\t(2 * 21)\n",
      "07:05:31 INFO:PC: 397\tOpcode: 5\tRaw: 1005\n",
      "07:05:31 INFO:Modes: ['0', '1', '0']\n",
      "07:05:31 DEBUG:PC jumped to [404]\n",
      "07:05:31 INFO:PC: 404\tOpcode: 8\tRaw: 8\n",
      "07:05:31 INFO:Modes: ['0', '0', '0']\n",
      "07:05:31 INFO:Equals check: 1 written to [1]\n",
      "07:05:31 INFO:PC: 408\tOpcode: 2\tRaw: 102\n",
      "07:05:31 INFO:Modes: ['0', '0', '1']\n",
      "07:05:31 INFO:84 saved to [223]\t(2 * 42)\n",
      "07:05:31 INFO:PC: 412\tOpcode: 6\tRaw: 1006\n",
      "07:05:31 INFO:Modes: ['0', '1', '0']\n",
      "07:05:31 INFO:PC: 415\tOpcode: 1\tRaw: 101\n",
      "07:05:31 INFO:Modes: ['0', '0', '1']\n",
      "07:05:31 INFO:85 saved to [223]\t(1 + 84)\n",
      "07:05:31 INFO:PC: 419\tOpcode: 7\tRaw: 1107\n",
      "07:05:31 INFO:Modes: ['0', '1', '1']\n",
      "07:05:31 INFO:Less than check: 0 written to [0]\n",
      "07:05:31 INFO:PC: 423\tOpcode: 2\tRaw: 102\n",
      "07:05:31 INFO:Modes: ['0', '0', '1']\n",
      "07:05:31 INFO:170 saved to [223]\t(2 * 85)\n",
      "07:05:31 INFO:PC: 427\tOpcode: 6\tRaw: 1006\n",
      "07:05:31 INFO:Modes: ['0', '1', '0']\n",
      "07:05:31 DEBUG:PC jumped to [434]\n",
      "07:05:31 INFO:PC: 434\tOpcode: 7\tRaw: 1107\n",
      "07:05:31 INFO:Modes: ['0', '1', '1']\n",
      "07:05:31 INFO:Less than check: 1 written to [1]\n",
      "07:05:31 INFO:PC: 438\tOpcode: 2\tRaw: 1002\n",
      "07:05:31 INFO:Modes: ['0', '1', '0']\n",
      "07:05:31 INFO:340 saved to [223]\t(170 * 2)\n",
      "07:05:31 INFO:PC: 442\tOpcode: 6\tRaw: 1006\n",
      "07:05:31 INFO:Modes: ['0', '1', '0']\n",
      "07:05:31 INFO:PC: 445\tOpcode: 1\tRaw: 101\n",
      "07:05:31 INFO:Modes: ['0', '0', '1']\n",
      "07:05:31 INFO:341 saved to [223]\t(1 + 340)\n",
      "07:05:31 INFO:PC: 449\tOpcode: 7\tRaw: 7\n",
      "07:05:31 INFO:Modes: ['0', '0', '0']\n",
      "07:05:31 INFO:Less than check: 0 written to [0]\n",
      "07:05:31 INFO:PC: 453\tOpcode: 2\tRaw: 1002\n",
      "07:05:31 INFO:Modes: ['0', '1', '0']\n",
      "07:05:31 INFO:682 saved to [223]\t(341 * 2)\n",
      "07:05:31 INFO:PC: 457\tOpcode: 6\tRaw: 1006\n",
      "07:05:31 INFO:Modes: ['0', '1', '0']\n",
      "07:05:31 DEBUG:PC jumped to [464]\n",
      "07:05:31 INFO:PC: 464\tOpcode: 8\tRaw: 1108\n",
      "07:05:31 INFO:Modes: ['0', '1', '1']\n",
      "07:05:31 INFO:Equals check: 0 written to [0]\n",
      "07:05:31 INFO:PC: 468\tOpcode: 2\tRaw: 1002\n",
      "07:05:31 INFO:Modes: ['0', '1', '0']\n",
      "07:05:31 INFO:1364 saved to [223]\t(682 * 2)\n",
      "07:05:31 INFO:PC: 472\tOpcode: 5\tRaw: 1005\n",
      "07:05:31 INFO:Modes: ['0', '1', '0']\n",
      "07:05:31 INFO:PC: 475\tOpcode: 1\tRaw: 1001\n",
      "07:05:31 INFO:Modes: ['0', '1', '0']\n",
      "07:05:31 INFO:1365 saved to [223]\t(1364 + 1)\n",
      "07:05:31 INFO:PC: 479\tOpcode: 8\tRaw: 8\n",
      "07:05:31 INFO:Modes: ['0', '0', '0']\n",
      "07:05:31 INFO:Equals check: 0 written to [0]\n",
      "07:05:31 INFO:PC: 483\tOpcode: 2\tRaw: 1002\n",
      "07:05:31 INFO:Modes: ['0', '1', '0']\n",
      "07:05:31 INFO:2730 saved to [223]\t(1365 * 2)\n",
      "07:05:31 INFO:PC: 487\tOpcode: 5\tRaw: 1005\n",
      "07:05:31 INFO:Modes: ['0', '1', '0']\n",
      "07:05:31 INFO:PC: 490\tOpcode: 1\tRaw: 101\n",
      "07:05:31 INFO:Modes: ['0', '0', '1']\n",
      "07:05:31 INFO:2731 saved to [223]\t(1 + 2730)\n",
      "07:05:31 INFO:PC: 494\tOpcode: 7\tRaw: 7\n",
      "07:05:31 INFO:Modes: ['0', '0', '0']\n",
      "07:05:31 INFO:Less than check: 0 written to [0]\n",
      "07:05:31 INFO:PC: 498\tOpcode: 2\tRaw: 102\n",
      "07:05:31 INFO:Modes: ['0', '0', '1']\n",
      "07:05:31 INFO:5462 saved to [223]\t(2 * 2731)\n",
      "07:05:31 INFO:PC: 502\tOpcode: 5\tRaw: 1005\n",
      "07:05:31 INFO:Modes: ['0', '1', '0']\n",
      "07:05:31 INFO:PC: 505\tOpcode: 1\tRaw: 101\n",
      "07:05:31 INFO:Modes: ['0', '0', '1']\n",
      "07:05:31 INFO:5463 saved to [223]\t(1 + 5462)\n",
      "07:05:31 INFO:PC: 509\tOpcode: 8\tRaw: 1008\n",
      "07:05:31 INFO:Modes: ['0', '1', '0']\n",
      "07:05:31 INFO:Equals check: 1 written to [1]\n",
      "07:05:31 INFO:PC: 513\tOpcode: 2\tRaw: 102\n",
      "07:05:31 INFO:Modes: ['0', '0', '1']\n",
      "07:05:31 INFO:10926 saved to [223]\t(2 * 5463)\n",
      "07:05:31 INFO:PC: 517\tOpcode: 6\tRaw: 1006\n",
      "07:05:31 INFO:Modes: ['0', '1', '0']\n",
      "07:05:31 INFO:PC: 520\tOpcode: 1\tRaw: 101\n",
      "07:05:31 INFO:Modes: ['0', '0', '1']\n",
      "07:05:31 INFO:10927 saved to [223]\t(1 + 10926)\n",
      "07:05:31 INFO:PC: 524\tOpcode: 8\tRaw: 8\n",
      "07:05:31 INFO:Modes: ['0', '0', '0']\n",
      "07:05:31 INFO:Equals check: 0 written to [0]\n",
      "07:05:31 INFO:PC: 528\tOpcode: 2\tRaw: 1002\n",
      "07:05:31 INFO:Modes: ['0', '1', '0']\n",
      "07:05:31 INFO:21854 saved to [223]\t(10927 * 2)\n",
      "07:05:31 INFO:PC: 532\tOpcode: 6\tRaw: 1006\n",
      "07:05:31 INFO:Modes: ['0', '1', '0']\n",
      "07:05:31 DEBUG:PC jumped to [539]\n",
      "07:05:31 INFO:PC: 539\tOpcode: 7\tRaw: 1007\n"
     ]
    },
    {
     "name": "stderr",
     "output_type": "stream",
     "text": [
      "07:05:31 INFO:Modes: ['0', '1', '0']\n",
      "07:05:31 INFO:Less than check: 1 written to [1]\n",
      "07:05:31 INFO:PC: 543\tOpcode: 2\tRaw: 102\n",
      "07:05:31 INFO:Modes: ['0', '0', '1']\n",
      "07:05:31 INFO:43708 saved to [223]\t(2 * 21854)\n",
      "07:05:31 INFO:PC: 547\tOpcode: 5\tRaw: 1005\n",
      "07:05:31 INFO:Modes: ['0', '1', '0']\n",
      "07:05:31 DEBUG:PC jumped to [554]\n",
      "07:05:31 INFO:PC: 554\tOpcode: 7\tRaw: 107\n",
      "07:05:31 INFO:Modes: ['0', '0', '1']\n",
      "07:05:31 INFO:Less than check: 0 written to [0]\n",
      "07:05:31 INFO:PC: 558\tOpcode: 2\tRaw: 1002\n",
      "07:05:31 INFO:Modes: ['0', '1', '0']\n",
      "07:05:31 INFO:87416 saved to [223]\t(43708 * 2)\n",
      "07:05:31 INFO:PC: 562\tOpcode: 5\tRaw: 1005\n",
      "07:05:31 INFO:Modes: ['0', '1', '0']\n",
      "07:05:31 INFO:PC: 565\tOpcode: 1\tRaw: 1001\n",
      "07:05:31 INFO:Modes: ['0', '1', '0']\n",
      "07:05:31 INFO:87417 saved to [223]\t(87416 + 1)\n",
      "07:05:31 INFO:PC: 569\tOpcode: 8\tRaw: 1108\n",
      "07:05:31 INFO:Modes: ['0', '1', '1']\n",
      "07:05:31 INFO:Equals check: 1 written to [1]\n",
      "07:05:31 INFO:PC: 573\tOpcode: 2\tRaw: 1002\n",
      "07:05:31 INFO:Modes: ['0', '1', '0']\n",
      "07:05:31 INFO:174834 saved to [223]\t(87417 * 2)\n",
      "07:05:31 INFO:PC: 577\tOpcode: 6\tRaw: 1006\n",
      "07:05:31 INFO:Modes: ['0', '1', '0']\n",
      "07:05:31 INFO:PC: 580\tOpcode: 1\tRaw: 1001\n",
      "07:05:31 INFO:Modes: ['0', '1', '0']\n",
      "07:05:31 INFO:174835 saved to [223]\t(174834 + 1)\n",
      "07:05:31 INFO:PC: 584\tOpcode: 8\tRaw: 1008\n",
      "07:05:31 INFO:Modes: ['0', '1', '0']\n",
      "07:05:31 INFO:Equals check: 0 written to [0]\n",
      "07:05:31 INFO:PC: 588\tOpcode: 2\tRaw: 1002\n",
      "07:05:31 INFO:Modes: ['0', '1', '0']\n",
      "07:05:31 INFO:349670 saved to [223]\t(174835 * 2)\n",
      "07:05:31 INFO:PC: 592\tOpcode: 5\tRaw: 1005\n",
      "07:05:31 INFO:Modes: ['0', '1', '0']\n",
      "07:05:31 INFO:PC: 595\tOpcode: 1\tRaw: 101\n",
      "07:05:31 INFO:Modes: ['0', '0', '1']\n",
      "07:05:31 INFO:349671 saved to [223]\t(1 + 349670)\n",
      "07:05:31 INFO:PC: 599\tOpcode: 8\tRaw: 1008\n",
      "07:05:31 INFO:Modes: ['0', '1', '0']\n",
      "07:05:31 INFO:Equals check: 0 written to [0]\n",
      "07:05:31 INFO:PC: 603\tOpcode: 2\tRaw: 102\n",
      "07:05:31 INFO:Modes: ['0', '0', '1']\n",
      "07:05:31 INFO:699342 saved to [223]\t(2 * 349671)\n",
      "07:05:31 INFO:PC: 607\tOpcode: 5\tRaw: 1005\n",
      "07:05:31 INFO:Modes: ['0', '1', '0']\n",
      "07:05:31 INFO:PC: 610\tOpcode: 1\tRaw: 101\n",
      "07:05:31 INFO:Modes: ['0', '0', '1']\n",
      "07:05:31 INFO:699343 saved to [223]\t(1 + 699342)\n",
      "07:05:31 INFO:PC: 614\tOpcode: 7\tRaw: 7\n",
      "07:05:31 INFO:Modes: ['0', '0', '0']\n",
      "07:05:31 INFO:Less than check: 1 written to [1]\n",
      "07:05:31 INFO:PC: 618\tOpcode: 2\tRaw: 1002\n",
      "07:05:31 INFO:Modes: ['0', '1', '0']\n",
      "07:05:31 INFO:1398686 saved to [223]\t(699343 * 2)\n",
      "07:05:31 INFO:PC: 622\tOpcode: 5\tRaw: 1005\n",
      "07:05:31 INFO:Modes: ['0', '1', '0']\n",
      "07:05:31 DEBUG:PC jumped to [629]\n",
      "07:05:31 INFO:PC: 629\tOpcode: 7\tRaw: 107\n",
      "07:05:31 INFO:Modes: ['0', '0', '1']\n",
      "07:05:31 INFO:Less than check: 0 written to [0]\n",
      "07:05:31 INFO:PC: 633\tOpcode: 2\tRaw: 1002\n",
      "07:05:31 INFO:Modes: ['0', '1', '0']\n",
      "07:05:31 INFO:2797372 saved to [223]\t(1398686 * 2)\n",
      "07:05:31 INFO:PC: 637\tOpcode: 6\tRaw: 1006\n",
      "07:05:31 INFO:Modes: ['0', '1', '0']\n",
      "07:05:31 DEBUG:PC jumped to [644]\n",
      "07:05:31 INFO:PC: 644\tOpcode: 7\tRaw: 1007\n",
      "07:05:31 INFO:Modes: ['0', '1', '0']\n",
      "07:05:31 INFO:Less than check: 0 written to [0]\n",
      "07:05:31 INFO:PC: 648\tOpcode: 2\tRaw: 1002\n",
      "07:05:31 INFO:Modes: ['0', '1', '0']\n",
      "07:05:31 INFO:5594744 saved to [223]\t(2797372 * 2)\n",
      "07:05:31 INFO:PC: 652\tOpcode: 5\tRaw: 1005\n",
      "07:05:31 INFO:Modes: ['0', '1', '0']\n",
      "07:05:31 INFO:PC: 655\tOpcode: 1\tRaw: 1001\n",
      "07:05:31 INFO:Modes: ['0', '1', '0']\n",
      "07:05:31 INFO:5594745 saved to [223]\t(5594744 + 1)\n",
      "07:05:31 INFO:PC: 659\tOpcode: 7\tRaw: 1007\n",
      "07:05:31 INFO:Modes: ['0', '1', '0']\n",
      "07:05:31 INFO:Less than check: 0 written to [0]\n",
      "07:05:31 INFO:PC: 663\tOpcode: 2\tRaw: 102\n",
      "07:05:31 INFO:Modes: ['0', '0', '1']\n",
      "07:05:31 INFO:11189490 saved to [223]\t(2 * 5594745)\n",
      "07:05:31 INFO:PC: 667\tOpcode: 5\tRaw: 1005\n",
      "07:05:31 INFO:Modes: ['0', '1', '0']\n",
      "07:05:31 INFO:PC: 670\tOpcode: 1\tRaw: 101\n",
      "07:05:31 INFO:Modes: ['0', '0', '1']\n",
      "07:05:31 INFO:11189491 saved to [223]\t(1 + 11189490)\n",
      "07:05:31 INFO:PC: 674\tOpcode: 4\tRaw: 4\n",
      "07:05:31 INFO:Modes: ['0', '0', '0']\n",
      "07:05:31 INFO:Value 5 loaded from [11189491]\n"
     ]
    },
    {
     "name": "stdout",
     "output_type": "stream",
     "text": [
      "Output: 11189491\n"
     ]
    }
   ],
   "source": [
    "program = list(puzzle_input)\n",
    "\n",
    "pc = 0\n",
    "op_code = int(str(program[pc])[-2:])\n",
    "outputs = 0\n",
    "input_value = 5\n",
    "\n",
    "while op_code != 99:\n",
    "\n",
    "    logging.info(f\"PC: {pc}\\tOpcode: {op_code}\\tRaw: {str(program[pc])}\")\n",
    "    modes = str(program[pc])[:-2]\n",
    "\n",
    "    if op_code == 3:\n",
    "        pc, program = op_codes[str(op_code)](input_value, modes, pc, program)\n",
    "        \n",
    "    elif op_code == 4:\n",
    "        output, pc, program = op_codes[str(op_code)](modes, pc, program)\n",
    "               \n",
    "    else:\n",
    "        pc, program = op_codes[str(op_code)](modes, pc, program)\n",
    "\n",
    "    op_code = int(str(program[pc])[-2:])\n",
    "\n",
    "print(f\"Output: {output}\")"
   ]
  },
  {
   "cell_type": "markdown",
   "metadata": {},
   "source": [
    "Solution = 11189491"
   ]
  }
 ],
 "metadata": {
  "kernelspec": {
   "display_name": "Python 3",
   "language": "python",
   "name": "python3"
  },
  "language_info": {
   "codemirror_mode": {
    "name": "ipython",
    "version": 3
   },
   "file_extension": ".py",
   "mimetype": "text/x-python",
   "name": "python",
   "nbconvert_exporter": "python",
   "pygments_lexer": "ipython3",
   "version": "3.6.9"
  },
  "toc": {
   "base_numbering": 1,
   "nav_menu": {},
   "number_sections": false,
   "sideBar": true,
   "skip_h1_title": false,
   "title_cell": "Table of Contents",
   "title_sidebar": "Contents",
   "toc_cell": false,
   "toc_position": {},
   "toc_section_display": true,
   "toc_window_display": false
  },
  "varInspector": {
   "cols": {
    "lenName": 16,
    "lenType": 16,
    "lenVar": 40
   },
   "kernels_config": {
    "python": {
     "delete_cmd_postfix": "",
     "delete_cmd_prefix": "del ",
     "library": "var_list.py",
     "varRefreshCmd": "print(var_dic_list())"
    },
    "r": {
     "delete_cmd_postfix": ") ",
     "delete_cmd_prefix": "rm(",
     "library": "var_list.r",
     "varRefreshCmd": "cat(var_dic_list()) "
    }
   },
   "types_to_exclude": [
    "module",
    "function",
    "builtin_function_or_method",
    "instance",
    "_Feature"
   ],
   "window_display": false
  }
 },
 "nbformat": 4,
 "nbformat_minor": 2
}

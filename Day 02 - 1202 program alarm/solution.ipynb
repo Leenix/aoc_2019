{
 "cells": [
  {
   "cell_type": "markdown",
   "metadata": {},
   "source": [
    "# Day 02: 1202 Program Alarm "
   ]
  },
  {
   "cell_type": "markdown",
   "metadata": {
    "heading_collapsed": true
   },
   "source": [
    "## Grab input"
   ]
  },
  {
   "cell_type": "code",
   "execution_count": 19,
   "metadata": {
    "ExecuteTime": {
     "end_time": "2019-12-02T05:22:07.960532Z",
     "start_time": "2019-12-02T05:22:07.953403Z"
    },
    "hidden": true,
    "scrolled": true
   },
   "outputs": [
    {
     "data": {
      "text/plain": [
       "[1,\n",
       " 0,\n",
       " 0,\n",
       " 3,\n",
       " 1,\n",
       " 1,\n",
       " 2,\n",
       " 3,\n",
       " 1,\n",
       " 3,\n",
       " 4,\n",
       " 3,\n",
       " 1,\n",
       " 5,\n",
       " 0,\n",
       " 3,\n",
       " 2,\n",
       " 6,\n",
       " 1,\n",
       " 19,\n",
       " 1,\n",
       " 19,\n",
       " 5,\n",
       " 23,\n",
       " 2,\n",
       " 10,\n",
       " 23,\n",
       " 27,\n",
       " 2,\n",
       " 27,\n",
       " 13,\n",
       " 31,\n",
       " 1,\n",
       " 10,\n",
       " 31,\n",
       " 35,\n",
       " 1,\n",
       " 35,\n",
       " 9,\n",
       " 39,\n",
       " 2,\n",
       " 39,\n",
       " 13,\n",
       " 43,\n",
       " 1,\n",
       " 43,\n",
       " 5,\n",
       " 47,\n",
       " 1,\n",
       " 47,\n",
       " 6,\n",
       " 51,\n",
       " 2,\n",
       " 6,\n",
       " 51,\n",
       " 55,\n",
       " 1,\n",
       " 5,\n",
       " 55,\n",
       " 59,\n",
       " 2,\n",
       " 9,\n",
       " 59,\n",
       " 63,\n",
       " 2,\n",
       " 6,\n",
       " 63,\n",
       " 67,\n",
       " 1,\n",
       " 13,\n",
       " 67,\n",
       " 71,\n",
       " 1,\n",
       " 9,\n",
       " 71,\n",
       " 75,\n",
       " 2,\n",
       " 13,\n",
       " 75,\n",
       " 79,\n",
       " 1,\n",
       " 79,\n",
       " 10,\n",
       " 83,\n",
       " 2,\n",
       " 83,\n",
       " 9,\n",
       " 87,\n",
       " 1,\n",
       " 5,\n",
       " 87,\n",
       " 91,\n",
       " 2,\n",
       " 91,\n",
       " 6,\n",
       " 95,\n",
       " 2,\n",
       " 13,\n",
       " 95,\n",
       " 99,\n",
       " 1,\n",
       " 99,\n",
       " 5,\n",
       " 103,\n",
       " 1,\n",
       " 103,\n",
       " 2,\n",
       " 107,\n",
       " 1,\n",
       " 107,\n",
       " 10,\n",
       " 0,\n",
       " 99,\n",
       " 2,\n",
       " 0,\n",
       " 14,\n",
       " 0]"
      ]
     },
     "execution_count": 19,
     "metadata": {},
     "output_type": "execute_result"
    }
   ],
   "source": [
    "puzzle_input = []\n",
    "with open(\"input\") as f:\n",
    "    lines = f.read()\n",
    "\n",
    "lines = lines.strip().split(',')\n",
    "for line in lines:\n",
    "    puzzle_input.append(int(line))\n",
    "puzzle_input"
   ]
  },
  {
   "cell_type": "code",
   "execution_count": 7,
   "metadata": {
    "ExecuteTime": {
     "end_time": "2019-12-02T05:06:42.645427Z",
     "start_time": "2019-12-02T05:06:42.640105Z"
    },
    "hidden": true,
    "scrolled": true
   },
   "outputs": [
    {
     "data": {
      "text/plain": [
       "[1, 9, 10, 3, 2, 3, 11, 0, 99, 30, 40, 50]"
      ]
     },
     "execution_count": 7,
     "metadata": {},
     "output_type": "execute_result"
    }
   ],
   "source": [
    "test_input = []\n",
    "with open(\"test\") as f:\n",
    "    lines = f.read()\n",
    "\n",
    "lines = lines.strip().split(',')\n",
    "for line in lines:\n",
    "    test_input.append(int(line))\n",
    "test_input"
   ]
  },
  {
   "cell_type": "markdown",
   "metadata": {
    "heading_collapsed": true
   },
   "source": [
    "## Part 1"
   ]
  },
  {
   "cell_type": "markdown",
   "metadata": {
    "ExecuteTime": {
     "end_time": "2019-12-01T12:08:24.127104Z",
     "start_time": "2019-12-01T12:08:24.117089Z"
    },
    "hidden": true
   },
   "source": [
    "On the way to your gravity assist around the Moon, your ship computer beeps angrily about a \"1202 program alarm\". On the radio, an Elf is already explaining how to handle the situation: \"Don't worry, that's perfectly norma--\" The ship computer bursts into flames.\n",
    "\n",
    "You notify the Elves that the computer's magic smoke seems to have escaped. \"That computer ran Intcode programs like the gravity assist program it was working on; surely there are enough spare parts up there to build a new Intcode computer!\"\n",
    "\n",
    "An Intcode program is a list of integers separated by commas (like 1,0,0,3,99). To run one, start by looking at the first integer (called position 0). Here, you will find an opcode - either 1, 2, or 99. The opcode indicates what to do; for example, 99 means that the program is finished and should immediately halt. Encountering an unknown opcode means something went wrong.\n",
    "\n",
    "Opcode 1 adds together numbers read from two positions and stores the result in a third position. The three integers immediately after the opcode tell you these three positions - the first two indicate the positions from which you should read the input values, and the third indicates the position at which the output should be stored.\n",
    "\n",
    "For example, if your Intcode computer encounters 1,10,20,30, it should read the values at positions 10 and 20, add those values, and then overwrite the value at position 30 with their sum.\n",
    "\n",
    "Opcode 2 works exactly like opcode 1, except it multiplies the two inputs instead of adding them. Again, the three integers after the opcode indicate where the inputs and outputs are, not their values.\n",
    "\n",
    "Once you're done processing an opcode, move to the next one by stepping forward 4 positions.\n",
    "\n",
    "For example, suppose you have the following program:\n",
    "\n",
    "1,9,10,3,2,3,11,0,99,30,40,50\n",
    "\n",
    "For the purposes of illustration, here is the same program split into multiple lines:\n",
    "\n",
    "1,9,10,3,\n",
    "2,3,11,0,\n",
    "99,\n",
    "30,40,50\n",
    "\n",
    "The first four integers, 1,9,10,3, are at positions 0, 1, 2, and 3. Together, they represent the first opcode (1, addition), the positions of the two inputs (9 and 10), and the position of the output (3). To handle this opcode, you first need to get the values at the input positions: position 9 contains 30, and position 10 contains 40. Add these numbers together to get 70. Then, store this value at the output position; here, the output position (3) is at position 3, so it overwrites itself. Afterward, the program looks like this:\n",
    "\n",
    "1,9,10,70,\n",
    "2,3,11,0,\n",
    "99,\n",
    "30,40,50\n",
    "\n",
    "Step forward 4 positions to reach the next opcode, 2. This opcode works just like the previous, but it multiplies instead of adding. The inputs are at positions 3 and 11; these positions contain 70 and 50 respectively. Multiplying these produces 3500; this is stored at position 0:\n",
    "\n",
    "3500,9,10,70,\n",
    "2,3,11,0,\n",
    "99,\n",
    "30,40,50\n",
    "\n",
    "Stepping forward 4 more positions arrives at opcode 99, halting the program.\n",
    "\n",
    "Here are the initial and final states of a few more small programs:\n",
    "\n",
    "    1,0,0,0,99 becomes 2,0,0,0,99 (1 + 1 = 2).\n",
    "    2,3,0,3,99 becomes 2,3,0,6,99 (3 * 2 = 6).\n",
    "    2,4,4,5,99,0 becomes 2,4,4,5,99,9801 (99 * 99 = 9801).\n",
    "    1,1,1,4,99,5,6,0,99 becomes 30,1,1,4,2,5,6,0,99.\n",
    "\n",
    "Once you have a working computer, the first step is to restore the gravity assist program (your puzzle input) to the \"1202 program alarm\" state it had just before the last computer caught fire. To do this, before running the program, replace position 1 with the value 12 and replace position 2 with the value 2. What value is left at position 0 after the program halts?"
   ]
  },
  {
   "cell_type": "code",
   "execution_count": 25,
   "metadata": {
    "ExecuteTime": {
     "end_time": "2019-12-02T05:30:32.005141Z",
     "start_time": "2019-12-02T05:30:31.994986Z"
    },
    "hidden": true
   },
   "outputs": [
    {
     "data": {
      "text/plain": [
       "19690720"
      ]
     },
     "execution_count": 25,
     "metadata": {},
     "output_type": "execute_result"
    }
   ],
   "source": [
    "program = list(puzzle_input)\n",
    "\n",
    "program[1] = 12\n",
    "program[2] = 2\n",
    "\n",
    "pc = 0\n",
    "op_code = program[pc]\n",
    "\n",
    "while op_code is not 99:\n",
    "    if op_code == 1:\n",
    "        program[program[pc+3]] = program[program[pc+1]] + program[program[pc+2]]\n",
    "    elif op_code == 2:\n",
    "        program[program[pc+3]] = program[program[pc+1]] * program[program[pc+2]]\n",
    "    else:\n",
    "        raise Exception(f\"Op code not found [{op_code}]\")\n",
    "    \n",
    "    pc += 4\n",
    "    op_code = program[pc]\n",
    "\n",
    "program[0]\n",
    "    "
   ]
  },
  {
   "cell_type": "markdown",
   "metadata": {
    "hidden": true
   },
   "source": [
    "Solution: 4570637"
   ]
  },
  {
   "cell_type": "markdown",
   "metadata": {
    "ExecuteTime": {
     "end_time": "2019-12-01T12:06:03.133484Z",
     "start_time": "2019-12-01T12:06:03.128923Z"
    },
    "heading_collapsed": true
   },
   "source": [
    "## Part 2"
   ]
  },
  {
   "cell_type": "markdown",
   "metadata": {
    "hidden": true
   },
   "source": [
    "\"Good, the new computer seems to be working correctly! Keep it nearby during this mission - you'll probably use it again. Real Intcode computers support many more features than your new one, but we'll let you know what they are as you need them.\"\n",
    "\n",
    "\"However, your current priority should be to complete your gravity assist around the Moon. For this mission to succeed, we should settle on some terminology for the parts you've already built.\"\n",
    "\n",
    "Intcode programs are given as a list of integers; these values are used as the initial state for the computer's memory. When you run an Intcode program, make sure to start by initializing memory to the program's values. A position in memory is called an address (for example, the first value in memory is at \"address 0\").\n",
    "\n",
    "Opcodes (like 1, 2, or 99) mark the beginning of an instruction. The values used immediately after an opcode, if any, are called the instruction's parameters. For example, in the instruction 1,2,3,4, 1 is the opcode; 2, 3, and 4 are the parameters. The instruction 99 contains only an opcode and has no parameters.\n",
    "\n",
    "The address of the current instruction is called the instruction pointer; it starts at 0. After an instruction finishes, the instruction pointer increases by the number of values in the instruction; until you add more instructions to the computer, this is always 4 (1 opcode + 3 parameters) for the add and multiply instructions. (The halt instruction would increase the instruction pointer by 1, but it halts the program instead.)\n",
    "\n",
    "\"With terminology out of the way, we're ready to proceed. To complete the gravity assist, you need to determine what pair of inputs produces the output 19690720.\"\n",
    "\n",
    "The inputs should still be provided to the program by replacing the values at addresses 1 and 2, just like before. In this program, the value placed in address 1 is called the noun, and the value placed in address 2 is called the verb. Each of the two input values will be between 0 and 99, inclusive.\n",
    "\n",
    "Once the program has halted, its output is available at address 0, also just like before. Each time you try a pair of inputs, make sure you first reset the computer's memory to the values in the program (your puzzle input) - in other words, don't reuse memory from a previous attempt.\n",
    "\n",
    "Find the input noun and verb that cause the program to produce the output 19690720. What is 100 * noun + verb? (For example, if noun=12 and verb=2, the answer would be 1202.)"
   ]
  },
  {
   "cell_type": "code",
   "execution_count": 26,
   "metadata": {
    "ExecuteTime": {
     "end_time": "2019-12-02T05:32:10.187648Z",
     "start_time": "2019-12-02T05:32:10.009634Z"
    },
    "hidden": true
   },
   "outputs": [
    {
     "name": "stdout",
     "output_type": "stream",
     "text": [
      "Result found -- noun: 54, verb: 85 >> 5485\n"
     ]
    }
   ],
   "source": [
    "correct_result = 19690720\n",
    "\n",
    "for noun in range(0, 99):\n",
    "    for verb in range(0, 99):\n",
    "\n",
    "        program = list(puzzle_input)\n",
    "\n",
    "        program[1] = noun\n",
    "        program[2] = verb\n",
    "\n",
    "        pc = 0\n",
    "        op_code = program[pc]\n",
    "\n",
    "        while op_code is not 99:\n",
    "            if op_code == 1:\n",
    "                program[program[pc+3]] = program[program[pc+1]] + \\\n",
    "                    program[program[pc+2]]\n",
    "            elif op_code == 2:\n",
    "                program[program[pc+3]] = program[program[pc+1]] * \\\n",
    "                    program[program[pc+2]]\n",
    "            else:\n",
    "                raise Exception(f\"Op code not found [{op_code}]\")\n",
    "\n",
    "            pc += 4\n",
    "            op_code = program[pc]\n",
    "\n",
    "        result = program[0]\n",
    "\n",
    "        if result == correct_result:\n",
    "            print(\n",
    "                f\"Result found -- noun: {noun}, verb: {verb} >> {100*noun + verb}\")\n",
    "            break"
   ]
  },
  {
   "cell_type": "markdown",
   "metadata": {
    "ExecuteTime": {
     "end_time": "2019-12-02T05:30:06.084494Z",
     "start_time": "2019-12-02T05:30:06.078716Z"
    },
    "hidden": true
   },
   "source": [
    "Solution: Result found -- noun: 54, verb: 85 >> 5485"
   ]
  },
  {
   "cell_type": "code",
   "execution_count": null,
   "metadata": {
    "hidden": true
   },
   "outputs": [],
   "source": []
  }
 ],
 "metadata": {
  "kernelspec": {
   "display_name": "Python 3",
   "language": "python",
   "name": "python3"
  },
  "language_info": {
   "codemirror_mode": {
    "name": "ipython",
    "version": 3
   },
   "file_extension": ".py",
   "mimetype": "text/x-python",
   "name": "python",
   "nbconvert_exporter": "python",
   "pygments_lexer": "ipython3",
   "version": "3.6.9"
  },
  "toc": {
   "base_numbering": 1,
   "nav_menu": {},
   "number_sections": false,
   "sideBar": true,
   "skip_h1_title": false,
   "title_cell": "Table of Contents",
   "title_sidebar": "Contents",
   "toc_cell": false,
   "toc_position": {},
   "toc_section_display": true,
   "toc_window_display": false
  },
  "varInspector": {
   "cols": {
    "lenName": 16,
    "lenType": 16,
    "lenVar": 40
   },
   "kernels_config": {
    "python": {
     "delete_cmd_postfix": "",
     "delete_cmd_prefix": "del ",
     "library": "var_list.py",
     "varRefreshCmd": "print(var_dic_list())"
    },
    "r": {
     "delete_cmd_postfix": ") ",
     "delete_cmd_prefix": "rm(",
     "library": "var_list.r",
     "varRefreshCmd": "cat(var_dic_list()) "
    }
   },
   "types_to_exclude": [
    "module",
    "function",
    "builtin_function_or_method",
    "instance",
    "_Feature"
   ],
   "window_display": false
  }
 },
 "nbformat": 4,
 "nbformat_minor": 2
}
